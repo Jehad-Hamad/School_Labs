{
 "cells": [
  {
   "cell_type": "code",
   "execution_count": 1,
   "id": "5ed43401",
   "metadata": {},
   "outputs": [],
   "source": [
    "#1. Design the complete state space representation\n",
    "from wolfStateSpace import get_valid_states, make_wolf_world, print_wolf_world, wolfStatesLocations"
   ]
  },
  {
   "cell_type": "code",
   "execution_count": 2,
   "id": "b2714743",
   "metadata": {},
   "outputs": [],
   "source": [
    "list_valid = get_valid_states()"
   ]
  },
  {
   "cell_type": "code",
   "execution_count": 3,
   "id": "0483f6a0",
   "metadata": {},
   "outputs": [],
   "source": [
    "wolf_world = make_wolf_world(list_valid)"
   ]
  },
  {
   "cell_type": "code",
   "execution_count": 4,
   "id": "20483cf2",
   "metadata": {},
   "outputs": [
    {
     "name": "stdout",
     "output_type": "stream",
     "text": [
      "Valid states: \n",
      "LLLL {<Actions.BOAT_RIGHT: 'BOAT_RIGHT'>: 'LLLR', <Actions.LOAD_CABBAGE: 'LOAD_CABBAGE'>: 'LLBL', <Actions.LOAD_SHEEP: 'LOAD_SHEEP'>: 'LBLL', <Actions.LOAD_WOLF: 'LOAD_WOLF'>: 'BLLL'}\n",
      "LLRL {<Actions.BOAT_RIGHT: 'BOAT_RIGHT'>: 'LLRR', <Actions.LOAD_SHEEP: 'LOAD_SHEEP'>: 'LBRL', <Actions.LOAD_WOLF: 'LOAD_WOLF'>: 'BLRL'}\n",
      "LLBL {<Actions.BOAT_RIGHT: 'BOAT_RIGHT'>: 'LLBR', <Actions.UNLOAD_CABBAGE: 'UNLOAD_CABBAGE'>: 'LLLL'}\n",
      "LRLL {<Actions.BOAT_RIGHT: 'BOAT_RIGHT'>: 'LRLR', <Actions.LOAD_CABBAGE: 'LOAD_CABBAGE'>: 'LRBL', <Actions.LOAD_WOLF: 'LOAD_WOLF'>: 'BRLL'}\n",
      "LRLR {<Actions.BOAT_LEFT: 'BOAT_LEFT'>: 'LRLL', <Actions.LOAD_SHEEP: 'LOAD_SHEEP'>: 'LBLR'}\n",
      "LRRR {<Actions.BOAT_LEFT: 'BOAT_LEFT'>: 'LRRL', <Actions.LOAD_CABBAGE: 'LOAD_CABBAGE'>: 'LRBR', <Actions.LOAD_SHEEP: 'LOAD_SHEEP'>: 'LBRR'}\n",
      "LRBL {<Actions.BOAT_RIGHT: 'BOAT_RIGHT'>: 'LRBR', <Actions.UNLOAD_CABBAGE: 'UNLOAD_CABBAGE'>: 'LRLL'}\n",
      "LRBR {<Actions.BOAT_LEFT: 'BOAT_LEFT'>: 'LRBL', <Actions.UNLOAD_CABBAGE: 'UNLOAD_CABBAGE'>: 'LRRR'}\n",
      "LBLL {<Actions.BOAT_RIGHT: 'BOAT_RIGHT'>: 'LBLR', <Actions.UNLOAD_SHEEP: 'UNLOAD_SHEEP'>: 'LLLL'}\n",
      "LBLR {<Actions.BOAT_LEFT: 'BOAT_LEFT'>: 'LBLL', <Actions.UNLOAD_SHEEP: 'UNLOAD_SHEEP'>: 'LRLR'}\n",
      "LBRL {<Actions.BOAT_RIGHT: 'BOAT_RIGHT'>: 'LBRR', <Actions.UNLOAD_SHEEP: 'UNLOAD_SHEEP'>: 'LLRL'}\n",
      "LBRR {<Actions.BOAT_LEFT: 'BOAT_LEFT'>: 'LBRL', <Actions.UNLOAD_SHEEP: 'UNLOAD_SHEEP'>: 'LRRR'}\n",
      "RLLL {<Actions.BOAT_RIGHT: 'BOAT_RIGHT'>: 'RLLR', <Actions.LOAD_CABBAGE: 'LOAD_CABBAGE'>: 'RLBL', <Actions.LOAD_SHEEP: 'LOAD_SHEEP'>: 'RBLL'}\n",
      "RLRL {<Actions.BOAT_RIGHT: 'BOAT_RIGHT'>: 'RLRR', <Actions.LOAD_SHEEP: 'LOAD_SHEEP'>: 'RBRL'}\n",
      "RLRR {<Actions.BOAT_LEFT: 'BOAT_LEFT'>: 'RLRL', <Actions.LOAD_CABBAGE: 'LOAD_CABBAGE'>: 'RLBR', <Actions.LOAD_WOLF: 'LOAD_WOLF'>: 'BLRR'}\n",
      "RLBL {<Actions.BOAT_RIGHT: 'BOAT_RIGHT'>: 'RLBR', <Actions.UNLOAD_CABBAGE: 'UNLOAD_CABBAGE'>: 'RLLL'}\n",
      "RLBR {<Actions.BOAT_LEFT: 'BOAT_LEFT'>: 'RLBL', <Actions.UNLOAD_CABBAGE: 'UNLOAD_CABBAGE'>: 'RLRR'}\n",
      "RRLR {<Actions.BOAT_LEFT: 'BOAT_LEFT'>: 'RRLL', <Actions.LOAD_SHEEP: 'LOAD_SHEEP'>: 'RBLR', <Actions.LOAD_WOLF: 'LOAD_WOLF'>: 'BRLR'}\n",
      "RRRR {<Actions.BOAT_LEFT: 'BOAT_LEFT'>: 'RRRL', <Actions.LOAD_CABBAGE: 'LOAD_CABBAGE'>: 'RRBR', <Actions.LOAD_SHEEP: 'LOAD_SHEEP'>: 'RBRR', <Actions.LOAD_WOLF: 'LOAD_WOLF'>: 'BRRR'}\n",
      "RRBR {<Actions.BOAT_LEFT: 'BOAT_LEFT'>: 'RRBL', <Actions.UNLOAD_CABBAGE: 'UNLOAD_CABBAGE'>: 'RRRR'}\n",
      "RBLL {<Actions.BOAT_RIGHT: 'BOAT_RIGHT'>: 'RBLR', <Actions.UNLOAD_SHEEP: 'UNLOAD_SHEEP'>: 'RLLL'}\n",
      "RBLR {<Actions.BOAT_LEFT: 'BOAT_LEFT'>: 'RBLL', <Actions.UNLOAD_SHEEP: 'UNLOAD_SHEEP'>: 'RRLR'}\n",
      "RBRL {<Actions.BOAT_RIGHT: 'BOAT_RIGHT'>: 'RBRR', <Actions.UNLOAD_SHEEP: 'UNLOAD_SHEEP'>: 'RLRL'}\n",
      "RBRR {<Actions.BOAT_LEFT: 'BOAT_LEFT'>: 'RBRL', <Actions.UNLOAD_SHEEP: 'UNLOAD_SHEEP'>: 'RRRR'}\n",
      "BLLL {<Actions.BOAT_RIGHT: 'BOAT_RIGHT'>: 'BLLR', <Actions.UNLOAD_WOLF: 'UNLOAD_WOLF'>: 'LLLL'}\n",
      "BLRL {<Actions.BOAT_RIGHT: 'BOAT_RIGHT'>: 'BLRR', <Actions.UNLOAD_WOLF: 'UNLOAD_WOLF'>: 'LLRL'}\n",
      "BLRR {<Actions.BOAT_LEFT: 'BOAT_LEFT'>: 'BLRL', <Actions.UNLOAD_WOLF: 'UNLOAD_WOLF'>: 'RLRR'}\n",
      "BRLL {<Actions.BOAT_RIGHT: 'BOAT_RIGHT'>: 'BRLR', <Actions.UNLOAD_WOLF: 'UNLOAD_WOLF'>: 'LRLL'}\n",
      "BRLR {<Actions.BOAT_LEFT: 'BOAT_LEFT'>: 'BRLL', <Actions.UNLOAD_WOLF: 'UNLOAD_WOLF'>: 'RRLR'}\n",
      "BRRR {<Actions.BOAT_LEFT: 'BOAT_LEFT'>: 'BRRL', <Actions.UNLOAD_WOLF: 'UNLOAD_WOLF'>: 'RRRR'}\n",
      "\n",
      "\n",
      "Invalid states: \n",
      "LLLR {}\n",
      "LLRR {}\n",
      "LLBR {}\n",
      "LRRL {}\n",
      "RLLR {}\n",
      "RRLL {}\n",
      "RRRL {}\n",
      "RRBL {}\n",
      "BLLR {}\n",
      "BRRL {}\n"
     ]
    }
   ],
   "source": [
    "print_wolf_world(wolf_world)"
   ]
  },
  {
   "cell_type": "code",
   "execution_count": 5,
   "id": "53cb9e60",
   "metadata": {},
   "outputs": [],
   "source": [
    "#2. Create the graph visualization using wolfGraph\n",
    "from wolfGraph import wolfGraph\n",
    "from wolfStateSpace import wolfStatesLocations\n",
    "from pyvis.network import Network\n"
   ]
  },
  {
   "cell_type": "code",
   "execution_count": 6,
   "id": "f5ad7e90",
   "metadata": {},
   "outputs": [],
   "source": [
    "wolfWorldGraph = wolfGraph(wolf_world, wolfStatesLocations(list_valid))"
   ]
  },
  {
   "cell_type": "code",
   "execution_count": 7,
   "id": "c8b1c698",
   "metadata": {},
   "outputs": [],
   "source": [
    "net_wolfWorldGraph = Network(\n",
    "            heading=\"State Space Visualization\",\n",
    "            bgcolor=\"#222222\",\n",
    "            font_color=\"white\",\n",
    "            height=\"600px\",\n",
    "            width=\"100%\",\n",
    "            directed=True\n",
    "        )"
   ]
  },
  {
   "cell_type": "code",
   "execution_count": 8,
   "id": "9fd55587",
   "metadata": {},
   "outputs": [],
   "source": [
    "all_nodes = wolfWorldGraph.nodes()\n",
    "for node in all_nodes:\n",
    "            if node == \"LLLL\":\n",
    "                color = \"blue\"  # Start\n",
    "            elif node == \"RRRR\":\n",
    "                color = \"green\"  # Goal\n",
    "            else:\n",
    "                color = \"white\"  # Regular state\n",
    "            \n",
    "            net_wolfWorldGraph.add_node(node, color=color, label=node)"
   ]
  },
  {
   "cell_type": "code",
   "execution_count": 9,
   "id": "c05edadc",
   "metadata": {},
   "outputs": [],
   "source": [
    "for source, targets in wolfWorldGraph.graph_dict.items():\n",
    "    for target in targets.keys():\n",
    "        net_wolfWorldGraph.add_edge(source, target)"
   ]
  },
  {
   "cell_type": "code",
   "execution_count": 10,
   "id": "0a4ccbab",
   "metadata": {},
   "outputs": [
    {
     "name": "stdout",
     "output_type": "stream",
     "text": [
      "StateSpaceVisualization.html\n"
     ]
    }
   ],
   "source": [
    "net_wolfWorldGraph.show(\"StateSpaceVisualization.html\", notebook=False)"
   ]
  },
  {
   "cell_type": "code",
   "execution_count": 11,
   "id": "d773d475",
   "metadata": {},
   "outputs": [],
   "source": [
    "#3. Design and implement the Agent to find a sequence of crossings of the river so that all 4 characters arrive safely on the other side of the river.\n",
    "#   This will be the weighted and unweighted solution\n",
    "from wolfAgent import wolfProblemSolvingAgentClass\n",
    "from wolfProblem import WolfProblem"
   ]
  },
  {
   "cell_type": "code",
   "execution_count": 12,
   "id": "97b6e491",
   "metadata": {},
   "outputs": [],
   "source": [
    "agent = wolfProblemSolvingAgentClass()\n",
    "problem = WolfProblem()"
   ]
  },
  {
   "cell_type": "code",
   "execution_count": 13,
   "id": "c7c905b5",
   "metadata": {},
   "outputs": [
    {
     "name": "stdout",
     "output_type": "stream",
     "text": [
      "<Node ['LEFT', 'LEFT', 'LEFT', 'LEFT']>\n",
      "<Node ['BOAT', 'LEFT', 'LEFT', 'LEFT']>\n",
      "<Node ['BOAT', 'LEFT', 'LEFT', 'RIGHT']>\n",
      "<Node ['LEFT', 'BOAT', 'LEFT', 'LEFT']>\n",
      "<Node ['LEFT', 'BOAT', 'LEFT', 'RIGHT']>\n",
      "<Node ['LEFT', 'LEFT', 'BOAT', 'LEFT']>\n",
      "<Node ['LEFT', 'LEFT', 'BOAT', 'RIGHT']>\n",
      "<Node ['LEFT', 'LEFT', 'LEFT', 'RIGHT']>\n",
      "<Node ['LEFT', 'RIGHT', 'LEFT', 'RIGHT']>\n",
      "<Node ['LEFT', 'RIGHT', 'LEFT', 'LEFT']>\n",
      "<Node ['BOAT', 'RIGHT', 'LEFT', 'LEFT']>\n",
      "<Node ['BOAT', 'RIGHT', 'LEFT', 'RIGHT']>\n",
      "<Node ['LEFT', 'RIGHT', 'BOAT', 'LEFT']>\n",
      "<Node ['LEFT', 'RIGHT', 'BOAT', 'RIGHT']>\n",
      "<Node ['LEFT', 'RIGHT', 'RIGHT', 'RIGHT']>\n",
      "<Node ['LEFT', 'BOAT', 'RIGHT', 'RIGHT']>\n",
      "<Node ['LEFT', 'BOAT', 'RIGHT', 'LEFT']>\n",
      "<Node ['LEFT', 'LEFT', 'RIGHT', 'LEFT']>\n",
      "<Node ['BOAT', 'LEFT', 'RIGHT', 'LEFT']>\n",
      "<Node ['BOAT', 'LEFT', 'RIGHT', 'RIGHT']>\n",
      "<Node ['LEFT', 'LEFT', 'RIGHT', 'RIGHT']>\n",
      "<Node ['LEFT', 'RIGHT', 'RIGHT', 'LEFT']>\n",
      "<Node ['RIGHT', 'LEFT', 'RIGHT', 'RIGHT']>\n",
      "<Node ['RIGHT', 'LEFT', 'BOAT', 'RIGHT']>\n",
      "<Node ['RIGHT', 'LEFT', 'BOAT', 'LEFT']>\n",
      "<Node ['RIGHT', 'LEFT', 'LEFT', 'LEFT']>\n",
      "<Node ['RIGHT', 'BOAT', 'LEFT', 'LEFT']>\n",
      "<Node ['RIGHT', 'BOAT', 'LEFT', 'RIGHT']>\n",
      "<Node ['RIGHT', 'LEFT', 'LEFT', 'RIGHT']>\n",
      "<Node ['RIGHT', 'LEFT', 'RIGHT', 'LEFT']>\n",
      "<Node ['RIGHT', 'BOAT', 'RIGHT', 'LEFT']>\n",
      "<Node ['RIGHT', 'BOAT', 'RIGHT', 'RIGHT']>\n",
      "<Node ['RIGHT', 'RIGHT', 'LEFT', 'RIGHT']>\n",
      "<Node ['RIGHT', 'BOAT', 'LEFT', 'RIGHT']>\n",
      "<Node ['RIGHT', 'BOAT', 'LEFT', 'LEFT']>\n",
      "<Node ['RIGHT', 'LEFT', 'LEFT', 'LEFT']>\n",
      "<Node ['RIGHT', 'LEFT', 'BOAT', 'LEFT']>\n",
      "<Node ['RIGHT', 'LEFT', 'BOAT', 'RIGHT']>\n",
      "<Node ['RIGHT', 'LEFT', 'LEFT', 'RIGHT']>\n",
      "<Node ['RIGHT', 'RIGHT', 'LEFT', 'LEFT']>\n",
      "<Node ['RIGHT', 'RIGHT', 'RIGHT', 'RIGHT']>\n",
      "Solution found!\n",
      "Actions.LOAD_SHEEP\n",
      "Actions.BOAT_RIGHT\n",
      "Actions.UNLOAD_SHEEP\n",
      "Actions.BOAT_LEFT\n",
      "Actions.LOAD_CABBAGE\n",
      "Actions.BOAT_RIGHT\n",
      "Actions.UNLOAD_CABBAGE\n",
      "Actions.LOAD_SHEEP\n",
      "Actions.BOAT_LEFT\n",
      "Actions.UNLOAD_SHEEP\n",
      "Actions.LOAD_WOLF\n",
      "Actions.BOAT_RIGHT\n",
      "Actions.UNLOAD_WOLF\n",
      "Actions.BOAT_LEFT\n",
      "Actions.LOAD_SHEEP\n",
      "Actions.BOAT_RIGHT\n",
      "Actions.UNLOAD_SHEEP\n",
      "Number of steps: 17\n",
      "\n",
      "\n",
      "Total cost if no weight: 17\n",
      "Total cost: 35\n"
     ]
    }
   ],
   "source": [
    "solution = agent.search(problem)\n",
    "if solution:\n",
    "    print(\"Solution found!\")\n",
    "    for i in range(len(solution)):\n",
    "        print(solution[i])\n",
    "    print(\"Number of steps:\", len(solution))\n",
    "    print(\"\\n\")\n",
    "    print(\"Total cost if no weight:\", sum([problem.path_cost(None, 0, action, None) for action in solution]))\n",
    "    print(\"Total cost:\", sum([problem.path_cost(0, 0, action, None) for action in solution]))\n",
    "else:\n",
    "    print(\"No solution found\")"
   ]
  }
 ],
 "metadata": {
  "kernelspec": {
   "display_name": ".venv",
   "language": "python",
   "name": "python3"
  },
  "language_info": {
   "codemirror_mode": {
    "name": "ipython",
    "version": 3
   },
   "file_extension": ".py",
   "mimetype": "text/x-python",
   "name": "python",
   "nbconvert_exporter": "python",
   "pygments_lexer": "ipython3",
   "version": "3.13.6"
  }
 },
 "nbformat": 4,
 "nbformat_minor": 5
}
