{
 "cells": [
  {
   "cell_type": "markdown",
   "id": "efb66557",
   "metadata": {},
   "source": [
    "Install with pip:\n",
    "\n",
    "`$ pip install pyvis`"
   ]
  },
  {
   "cell_type": "markdown",
   "id": "5be9ffde",
   "metadata": {},
   "source": [
    "Let's add **[Pandas](https://pandas.pydata.org/)** - a data manipulation package in Python for tabular data. \n",
    "\n",
    "[Python pandas Tutorial: The Ultimate Guide for Beginners](https://www.datacamp.com/tutorial/pandas)\n",
    "\n",
    "Installing pandas is straightforward; just use the pip install command in your terminal:\n",
    "\n",
    "`$ pip install pandas`\n"
   ]
  },
  {
   "cell_type": "code",
   "execution_count": 1,
   "id": "ae01b981",
   "metadata": {},
   "outputs": [],
   "source": [
    "# step 1\n",
    "import pandas as pd\n",
    "from pyvis.network import Network"
   ]
  },
  {
   "cell_type": "code",
   "execution_count": 2,
   "id": "3e0c2b93",
   "metadata": {},
   "outputs": [
    {
     "data": {
      "text/html": [
       "<div>\n",
       "<style scoped>\n",
       "    .dataframe tbody tr th:only-of-type {\n",
       "        vertical-align: middle;\n",
       "    }\n",
       "\n",
       "    .dataframe tbody tr th {\n",
       "        vertical-align: top;\n",
       "    }\n",
       "\n",
       "    .dataframe thead th {\n",
       "        text-align: right;\n",
       "    }\n",
       "</style>\n",
       "<table border=\"1\" class=\"dataframe\">\n",
       "  <thead>\n",
       "    <tr style=\"text-align: right;\">\n",
       "      <th></th>\n",
       "      <th>name</th>\n",
       "      <th>year</th>\n",
       "      <th>battle_number</th>\n",
       "      <th>attacker_king</th>\n",
       "      <th>defender_king</th>\n",
       "      <th>attacker_1</th>\n",
       "      <th>attacker_2</th>\n",
       "      <th>attacker_3</th>\n",
       "      <th>attacker_4</th>\n",
       "      <th>defender_1</th>\n",
       "      <th>...</th>\n",
       "      <th>major_death</th>\n",
       "      <th>major_capture</th>\n",
       "      <th>attacker_size</th>\n",
       "      <th>defender_size</th>\n",
       "      <th>attacker_commander</th>\n",
       "      <th>defender_commander</th>\n",
       "      <th>summer</th>\n",
       "      <th>location</th>\n",
       "      <th>region</th>\n",
       "      <th>note</th>\n",
       "    </tr>\n",
       "  </thead>\n",
       "  <tbody>\n",
       "    <tr>\n",
       "      <th>0</th>\n",
       "      <td>Battle of the Golden Tooth</td>\n",
       "      <td>298</td>\n",
       "      <td>1</td>\n",
       "      <td>Joffrey/Tommen Baratheon</td>\n",
       "      <td>Robb Stark</td>\n",
       "      <td>Lannister</td>\n",
       "      <td>NaN</td>\n",
       "      <td>NaN</td>\n",
       "      <td>NaN</td>\n",
       "      <td>Tully</td>\n",
       "      <td>...</td>\n",
       "      <td>1.0</td>\n",
       "      <td>0.0</td>\n",
       "      <td>15000.0</td>\n",
       "      <td>4000.0</td>\n",
       "      <td>Jaime Lannister</td>\n",
       "      <td>Clement Piper, Vance</td>\n",
       "      <td>1.0</td>\n",
       "      <td>Golden Tooth</td>\n",
       "      <td>The Westerlands</td>\n",
       "      <td>NaN</td>\n",
       "    </tr>\n",
       "    <tr>\n",
       "      <th>1</th>\n",
       "      <td>Battle at the Mummer's Ford</td>\n",
       "      <td>298</td>\n",
       "      <td>2</td>\n",
       "      <td>Joffrey/Tommen Baratheon</td>\n",
       "      <td>Robb Stark</td>\n",
       "      <td>Lannister</td>\n",
       "      <td>NaN</td>\n",
       "      <td>NaN</td>\n",
       "      <td>NaN</td>\n",
       "      <td>Baratheon</td>\n",
       "      <td>...</td>\n",
       "      <td>1.0</td>\n",
       "      <td>0.0</td>\n",
       "      <td>NaN</td>\n",
       "      <td>120.0</td>\n",
       "      <td>Gregor Clegane</td>\n",
       "      <td>Beric Dondarrion</td>\n",
       "      <td>1.0</td>\n",
       "      <td>Mummer's Ford</td>\n",
       "      <td>The Riverlands</td>\n",
       "      <td>NaN</td>\n",
       "    </tr>\n",
       "    <tr>\n",
       "      <th>2</th>\n",
       "      <td>Battle of Riverrun</td>\n",
       "      <td>298</td>\n",
       "      <td>3</td>\n",
       "      <td>Joffrey/Tommen Baratheon</td>\n",
       "      <td>Robb Stark</td>\n",
       "      <td>Lannister</td>\n",
       "      <td>NaN</td>\n",
       "      <td>NaN</td>\n",
       "      <td>NaN</td>\n",
       "      <td>Tully</td>\n",
       "      <td>...</td>\n",
       "      <td>0.0</td>\n",
       "      <td>1.0</td>\n",
       "      <td>15000.0</td>\n",
       "      <td>10000.0</td>\n",
       "      <td>Jaime Lannister, Andros Brax</td>\n",
       "      <td>Edmure Tully, Tytos Blackwood</td>\n",
       "      <td>1.0</td>\n",
       "      <td>Riverrun</td>\n",
       "      <td>The Riverlands</td>\n",
       "      <td>NaN</td>\n",
       "    </tr>\n",
       "    <tr>\n",
       "      <th>3</th>\n",
       "      <td>Battle of the Green Fork</td>\n",
       "      <td>298</td>\n",
       "      <td>4</td>\n",
       "      <td>Robb Stark</td>\n",
       "      <td>Joffrey/Tommen Baratheon</td>\n",
       "      <td>Stark</td>\n",
       "      <td>NaN</td>\n",
       "      <td>NaN</td>\n",
       "      <td>NaN</td>\n",
       "      <td>Lannister</td>\n",
       "      <td>...</td>\n",
       "      <td>1.0</td>\n",
       "      <td>1.0</td>\n",
       "      <td>18000.0</td>\n",
       "      <td>20000.0</td>\n",
       "      <td>Roose Bolton, Wylis Manderly, Medger Cerwyn, H...</td>\n",
       "      <td>Tywin Lannister, Gregor Clegane, Kevan Lannist...</td>\n",
       "      <td>1.0</td>\n",
       "      <td>Green Fork</td>\n",
       "      <td>The Riverlands</td>\n",
       "      <td>NaN</td>\n",
       "    </tr>\n",
       "    <tr>\n",
       "      <th>4</th>\n",
       "      <td>Battle of the Whispering Wood</td>\n",
       "      <td>298</td>\n",
       "      <td>5</td>\n",
       "      <td>Robb Stark</td>\n",
       "      <td>Joffrey/Tommen Baratheon</td>\n",
       "      <td>Stark</td>\n",
       "      <td>Tully</td>\n",
       "      <td>NaN</td>\n",
       "      <td>NaN</td>\n",
       "      <td>Lannister</td>\n",
       "      <td>...</td>\n",
       "      <td>1.0</td>\n",
       "      <td>1.0</td>\n",
       "      <td>1875.0</td>\n",
       "      <td>6000.0</td>\n",
       "      <td>Robb Stark, Brynden Tully</td>\n",
       "      <td>Jaime Lannister</td>\n",
       "      <td>1.0</td>\n",
       "      <td>Whispering Wood</td>\n",
       "      <td>The Riverlands</td>\n",
       "      <td>NaN</td>\n",
       "    </tr>\n",
       "  </tbody>\n",
       "</table>\n",
       "<p>5 rows × 25 columns</p>\n",
       "</div>"
      ],
      "text/plain": [
       "                            name  year  battle_number  \\\n",
       "0     Battle of the Golden Tooth   298              1   \n",
       "1    Battle at the Mummer's Ford   298              2   \n",
       "2             Battle of Riverrun   298              3   \n",
       "3       Battle of the Green Fork   298              4   \n",
       "4  Battle of the Whispering Wood   298              5   \n",
       "\n",
       "              attacker_king             defender_king attacker_1 attacker_2  \\\n",
       "0  Joffrey/Tommen Baratheon                Robb Stark  Lannister        NaN   \n",
       "1  Joffrey/Tommen Baratheon                Robb Stark  Lannister        NaN   \n",
       "2  Joffrey/Tommen Baratheon                Robb Stark  Lannister        NaN   \n",
       "3                Robb Stark  Joffrey/Tommen Baratheon      Stark        NaN   \n",
       "4                Robb Stark  Joffrey/Tommen Baratheon      Stark      Tully   \n",
       "\n",
       "  attacker_3 attacker_4 defender_1  ... major_death  major_capture  \\\n",
       "0        NaN        NaN      Tully  ...         1.0            0.0   \n",
       "1        NaN        NaN  Baratheon  ...         1.0            0.0   \n",
       "2        NaN        NaN      Tully  ...         0.0            1.0   \n",
       "3        NaN        NaN  Lannister  ...         1.0            1.0   \n",
       "4        NaN        NaN  Lannister  ...         1.0            1.0   \n",
       "\n",
       "   attacker_size defender_size  \\\n",
       "0        15000.0        4000.0   \n",
       "1            NaN         120.0   \n",
       "2        15000.0       10000.0   \n",
       "3        18000.0       20000.0   \n",
       "4         1875.0        6000.0   \n",
       "\n",
       "                                  attacker_commander  \\\n",
       "0                                    Jaime Lannister   \n",
       "1                                     Gregor Clegane   \n",
       "2                       Jaime Lannister, Andros Brax   \n",
       "3  Roose Bolton, Wylis Manderly, Medger Cerwyn, H...   \n",
       "4                          Robb Stark, Brynden Tully   \n",
       "\n",
       "                                  defender_commander  summer         location  \\\n",
       "0                               Clement Piper, Vance     1.0     Golden Tooth   \n",
       "1                                   Beric Dondarrion     1.0    Mummer's Ford   \n",
       "2                      Edmure Tully, Tytos Blackwood     1.0         Riverrun   \n",
       "3  Tywin Lannister, Gregor Clegane, Kevan Lannist...     1.0       Green Fork   \n",
       "4                                    Jaime Lannister     1.0  Whispering Wood   \n",
       "\n",
       "            region note  \n",
       "0  The Westerlands  NaN  \n",
       "1   The Riverlands  NaN  \n",
       "2   The Riverlands  NaN  \n",
       "3   The Riverlands  NaN  \n",
       "4   The Riverlands  NaN  \n",
       "\n",
       "[5 rows x 25 columns]"
      ]
     },
     "execution_count": 2,
     "metadata": {},
     "output_type": "execute_result"
    }
   ],
   "source": [
    "# step 2\n",
    "# Loading the data as well as displaying rows\n",
    "data = pd.read_csv(\"data/game-of-thrones-battles.csv\")\n",
    "data.head()"
   ]
  },
  {
   "cell_type": "code",
   "execution_count": 3,
   "id": "1bea0d6b",
   "metadata": {},
   "outputs": [
    {
     "name": "stdout",
     "output_type": "stream",
     "text": [
      "<class 'pandas.core.frame.DataFrame'>\n",
      "RangeIndex: 38 entries, 0 to 37\n",
      "Data columns (total 25 columns):\n",
      " #   Column              Non-Null Count  Dtype  \n",
      "---  ------              --------------  -----  \n",
      " 0   name                38 non-null     object \n",
      " 1   year                38 non-null     int64  \n",
      " 2   battle_number       38 non-null     int64  \n",
      " 3   attacker_king       36 non-null     object \n",
      " 4   defender_king       35 non-null     object \n",
      " 5   attacker_1          38 non-null     object \n",
      " 6   attacker_2          10 non-null     object \n",
      " 7   attacker_3          3 non-null      object \n",
      " 8   attacker_4          2 non-null      object \n",
      " 9   defender_1          37 non-null     object \n",
      " 10  defender_2          2 non-null      object \n",
      " 11  defender_3          0 non-null      float64\n",
      " 12  defender_4          0 non-null      float64\n",
      " 13  attacker_outcome    37 non-null     object \n",
      " 14  battle_type         37 non-null     object \n",
      " 15  major_death         37 non-null     float64\n",
      " 16  major_capture       37 non-null     float64\n",
      " 17  attacker_size       24 non-null     float64\n",
      " 18  defender_size       19 non-null     float64\n",
      " 19  attacker_commander  37 non-null     object \n",
      " 20  defender_commander  28 non-null     object \n",
      " 21  summer              37 non-null     float64\n",
      " 22  location            37 non-null     object \n",
      " 23  region              38 non-null     object \n",
      " 24  note                5 non-null      object \n",
      "dtypes: float64(7), int64(2), object(16)\n",
      "memory usage: 7.6+ KB\n"
     ]
    }
   ],
   "source": [
    "# step 3\n",
    "# Displaying information about the data\n",
    "data.info()"
   ]
  },
  {
   "cell_type": "code",
   "execution_count": 4,
   "id": "826bd649",
   "metadata": {},
   "outputs": [
    {
     "data": {
      "text/html": [
       "<div>\n",
       "<style scoped>\n",
       "    .dataframe tbody tr th:only-of-type {\n",
       "        vertical-align: middle;\n",
       "    }\n",
       "\n",
       "    .dataframe tbody tr th {\n",
       "        vertical-align: top;\n",
       "    }\n",
       "\n",
       "    .dataframe thead th {\n",
       "        text-align: right;\n",
       "    }\n",
       "</style>\n",
       "<table border=\"1\" class=\"dataframe\">\n",
       "  <thead>\n",
       "    <tr style=\"text-align: right;\">\n",
       "      <th></th>\n",
       "      <th>name</th>\n",
       "      <th>attacker_king</th>\n",
       "      <th>defender_king</th>\n",
       "      <th>attacker_size</th>\n",
       "      <th>defender_size</th>\n",
       "    </tr>\n",
       "  </thead>\n",
       "  <tbody>\n",
       "    <tr>\n",
       "      <th>0</th>\n",
       "      <td>Battle of the Golden Tooth</td>\n",
       "      <td>Joffrey/Tommen Baratheon</td>\n",
       "      <td>Robb Stark</td>\n",
       "      <td>15000.0</td>\n",
       "      <td>4000.0</td>\n",
       "    </tr>\n",
       "    <tr>\n",
       "      <th>1</th>\n",
       "      <td>Battle at the Mummer's Ford</td>\n",
       "      <td>Joffrey/Tommen Baratheon</td>\n",
       "      <td>Robb Stark</td>\n",
       "      <td>NaN</td>\n",
       "      <td>120.0</td>\n",
       "    </tr>\n",
       "    <tr>\n",
       "      <th>2</th>\n",
       "      <td>Battle of Riverrun</td>\n",
       "      <td>Joffrey/Tommen Baratheon</td>\n",
       "      <td>Robb Stark</td>\n",
       "      <td>15000.0</td>\n",
       "      <td>10000.0</td>\n",
       "    </tr>\n",
       "    <tr>\n",
       "      <th>3</th>\n",
       "      <td>Battle of the Green Fork</td>\n",
       "      <td>Robb Stark</td>\n",
       "      <td>Joffrey/Tommen Baratheon</td>\n",
       "      <td>18000.0</td>\n",
       "      <td>20000.0</td>\n",
       "    </tr>\n",
       "    <tr>\n",
       "      <th>4</th>\n",
       "      <td>Battle of the Whispering Wood</td>\n",
       "      <td>Robb Stark</td>\n",
       "      <td>Joffrey/Tommen Baratheon</td>\n",
       "      <td>1875.0</td>\n",
       "      <td>6000.0</td>\n",
       "    </tr>\n",
       "  </tbody>\n",
       "</table>\n",
       "</div>"
      ],
      "text/plain": [
       "                            name             attacker_king  \\\n",
       "0     Battle of the Golden Tooth  Joffrey/Tommen Baratheon   \n",
       "1    Battle at the Mummer's Ford  Joffrey/Tommen Baratheon   \n",
       "2             Battle of Riverrun  Joffrey/Tommen Baratheon   \n",
       "3       Battle of the Green Fork                Robb Stark   \n",
       "4  Battle of the Whispering Wood                Robb Stark   \n",
       "\n",
       "              defender_king  attacker_size  defender_size  \n",
       "0                Robb Stark        15000.0         4000.0  \n",
       "1                Robb Stark            NaN          120.0  \n",
       "2                Robb Stark        15000.0        10000.0  \n",
       "3  Joffrey/Tommen Baratheon        18000.0        20000.0  \n",
       "4  Joffrey/Tommen Baratheon         1875.0         6000.0  "
      ]
     },
     "execution_count": 4,
     "metadata": {},
     "output_type": "execute_result"
    }
   ],
   "source": [
    "# step 4\n",
    "# Select required columns: name, attacker_king, defender_king, attacker_size, defender_size.\n",
    "battles_df=data.loc[:,['name','attacker_king','defender_king','attacker_size','defender_size']]\n",
    "battles_df.head()"
   ]
  },
  {
   "cell_type": "code",
   "execution_count": 5,
   "id": "fb68c2d1",
   "metadata": {},
   "outputs": [
    {
     "name": "stdout",
     "output_type": "stream",
     "text": [
      "<class 'pandas.core.frame.DataFrame'>\n",
      "RangeIndex: 38 entries, 0 to 37\n",
      "Data columns (total 5 columns):\n",
      " #   Column         Non-Null Count  Dtype  \n",
      "---  ------         --------------  -----  \n",
      " 0   name           38 non-null     object \n",
      " 1   attacker_king  36 non-null     object \n",
      " 2   defender_king  35 non-null     object \n",
      " 3   attacker_size  24 non-null     float64\n",
      " 4   defender_size  19 non-null     float64\n",
      "dtypes: float64(2), object(3)\n",
      "memory usage: 1.6+ KB\n"
     ]
    }
   ],
   "source": [
    "# step 5\n",
    "# Displaying information about the new dataframe\n",
    "battles_df.info()"
   ]
  },
  {
   "cell_type": "code",
   "execution_count": 6,
   "id": "76a779ae",
   "metadata": {},
   "outputs": [
    {
     "name": "stdout",
     "output_type": "stream",
     "text": [
      "<class 'pandas.core.frame.DataFrame'>\n",
      "Index: 16 entries, 0 to 37\n",
      "Data columns (total 5 columns):\n",
      " #   Column         Non-Null Count  Dtype  \n",
      "---  ------         --------------  -----  \n",
      " 0   name           16 non-null     object \n",
      " 1   attacker_king  16 non-null     object \n",
      " 2   defender_king  16 non-null     object \n",
      " 3   attacker_size  16 non-null     float64\n",
      " 4   defender_size  16 non-null     float64\n",
      "dtypes: float64(2), object(3)\n",
      "memory usage: 768.0+ bytes\n"
     ]
    }
   ],
   "source": [
    "# step 6\n",
    "# remove rows with any missing values (NaN)\n",
    "battles_df_cleaned=battles_df.dropna()\n",
    "battles_df_cleaned.info()"
   ]
  },
  {
   "cell_type": "code",
   "execution_count": 7,
   "id": "1599c4cd",
   "metadata": {},
   "outputs": [
    {
     "data": {
      "text/html": [
       "<div>\n",
       "<style scoped>\n",
       "    .dataframe tbody tr th:only-of-type {\n",
       "        vertical-align: middle;\n",
       "    }\n",
       "\n",
       "    .dataframe tbody tr th {\n",
       "        vertical-align: top;\n",
       "    }\n",
       "\n",
       "    .dataframe thead th {\n",
       "        text-align: right;\n",
       "    }\n",
       "</style>\n",
       "<table border=\"1\" class=\"dataframe\">\n",
       "  <thead>\n",
       "    <tr style=\"text-align: right;\">\n",
       "      <th></th>\n",
       "      <th>name</th>\n",
       "      <th>attacker_king</th>\n",
       "      <th>defender_king</th>\n",
       "      <th>attacker_size</th>\n",
       "      <th>defender_size</th>\n",
       "    </tr>\n",
       "  </thead>\n",
       "  <tbody>\n",
       "    <tr>\n",
       "      <th>0</th>\n",
       "      <td>Battle of the Golden Tooth</td>\n",
       "      <td>Joffrey/Tommen Baratheon</td>\n",
       "      <td>Robb Stark</td>\n",
       "      <td>15000.0</td>\n",
       "      <td>4000.0</td>\n",
       "    </tr>\n",
       "    <tr>\n",
       "      <th>2</th>\n",
       "      <td>Battle of Riverrun</td>\n",
       "      <td>Joffrey/Tommen Baratheon</td>\n",
       "      <td>Robb Stark</td>\n",
       "      <td>15000.0</td>\n",
       "      <td>10000.0</td>\n",
       "    </tr>\n",
       "    <tr>\n",
       "      <th>3</th>\n",
       "      <td>Battle of the Green Fork</td>\n",
       "      <td>Robb Stark</td>\n",
       "      <td>Joffrey/Tommen Baratheon</td>\n",
       "      <td>18000.0</td>\n",
       "      <td>20000.0</td>\n",
       "    </tr>\n",
       "  </tbody>\n",
       "</table>\n",
       "</div>"
      ],
      "text/plain": [
       "                         name             attacker_king  \\\n",
       "0  Battle of the Golden Tooth  Joffrey/Tommen Baratheon   \n",
       "2          Battle of Riverrun  Joffrey/Tommen Baratheon   \n",
       "3    Battle of the Green Fork                Robb Stark   \n",
       "\n",
       "              defender_king  attacker_size  defender_size  \n",
       "0                Robb Stark        15000.0         4000.0  \n",
       "2                Robb Stark        15000.0        10000.0  \n",
       "3  Joffrey/Tommen Baratheon        18000.0        20000.0  "
      ]
     },
     "execution_count": 7,
     "metadata": {},
     "output_type": "execute_result"
    }
   ],
   "source": [
    "# step 6.5\n",
    "battles_df_cleaned.head(3)"
   ]
  },
  {
   "cell_type": "code",
   "execution_count": 8,
   "id": "a201c3d9",
   "metadata": {},
   "outputs": [
    {
     "name": "stdout",
     "output_type": "stream",
     "text": [
      "Attacking kings: ['Joffrey/Tommen Baratheon' 'Robb Stark' 'Stannis Baratheon']\n"
     ]
    }
   ],
   "source": [
    "# step 7\n",
    "# Output names of attacking kings (without repetitions):\n",
    "print(f\"Attacking kings: {battles_df_cleaned.attacker_king.unique()}\")"
   ]
  },
  {
   "cell_type": "code",
   "execution_count": 9,
   "id": "6e30324f",
   "metadata": {},
   "outputs": [
    {
     "name": "stdout",
     "output_type": "stream",
     "text": [
      "Defending kings: ['Robb Stark' 'Joffrey/Tommen Baratheon' 'Balon/Euron Greyjoy'\n",
      " 'Renly Baratheon' 'Mance Rayder']\n"
     ]
    }
   ],
   "source": [
    "# step 8\n",
    "# Output names of defending kings (without repetitions):\n",
    "print(f\"Defending kings: {battles_df_cleaned.defender_king.unique()}\")"
   ]
  },
  {
   "cell_type": "code",
   "execution_count": 10,
   "id": "49345f3b",
   "metadata": {},
   "outputs": [],
   "source": [
    "# step 9\n",
    "# Instantiate a Network object from pyvis.network.\n",
    "net5kings = Network(\n",
    "heading=\"Task1. Building Interactive Network of battles of the War of 5\",\n",
    "bgcolor =\"#242020\",\n",
    "font_color = \"white\",\n",
    "height = \"1000px\",\n",
    "width = \"100%\",\n",
    "directed = True, # we have directed graph\n",
    "notebook = True,\n",
    "cdn_resources = \"remote\"\n",
    " )   # do this"
   ]
  },
  {
   "cell_type": "code",
   "execution_count": 11,
   "id": "8f36b66c",
   "metadata": {},
   "outputs": [
    {
     "name": "stdout",
     "output_type": "stream",
     "text": [
      "Kings list (nodes names): {'Robb Stark', 'Joffrey/Tommen Baratheon', 'Stannis Baratheon', 'Mance Rayder', 'Renly Baratheon', 'Balon/Euron Greyjoy'}\n"
     ]
    }
   ],
   "source": [
    "# step 10\n",
    "# Define nodes - the list of unique names of all kings\n",
    "kingList = set(battles_df_cleaned.attacker_king.unique()) | set(battles_df_cleaned.defender_king.unique())\n",
    "print(f\"Kings list (nodes names): {kingList}\")"
   ]
  },
  {
   "cell_type": "code",
   "execution_count": 12,
   "id": "095c74ff",
   "metadata": {},
   "outputs": [
    {
     "name": "stdout",
     "output_type": "stream",
     "text": [
      "Nodes of net5kings properties: [{'color': '#97c2fc', 'id': 'Robb Stark', 'label': 'Robb Stark', 'shape': 'dot', 'font': {'color': 'white'}}, {'color': '#97c2fc', 'id': 'Joffrey/Tommen Baratheon', 'label': 'Joffrey/Tommen Baratheon', 'shape': 'dot', 'font': {'color': 'white'}}, {'color': '#97c2fc', 'id': 'Stannis Baratheon', 'label': 'Stannis Baratheon', 'shape': 'dot', 'font': {'color': 'white'}}, {'color': '#97c2fc', 'id': 'Mance Rayder', 'label': 'Mance Rayder', 'shape': 'dot', 'font': {'color': 'white'}}, {'color': '#97c2fc', 'id': 'Renly Baratheon', 'label': 'Renly Baratheon', 'shape': 'dot', 'font': {'color': 'white'}}, {'color': '#97c2fc', 'id': 'Balon/Euron Greyjoy', 'label': 'Balon/Euron Greyjoy', 'shape': 'dot', 'font': {'color': 'white'}}]\n"
     ]
    }
   ],
   "source": [
    "# step 11\n",
    "# Add nodes to the graph. Output them via netkings.nodes after that.\n",
    "net5kings.add_nodes(kingList)\n",
    "print(f\"Nodes of net5kings properties: {net5kings.nodes}\")"
   ]
  },
  {
   "cell_type": "code",
   "execution_count": 13,
   "id": "fe35e4df",
   "metadata": {},
   "outputs": [
    {
     "name": "stdout",
     "output_type": "stream",
     "text": [
      "Potential Edges of net5kings:\n",
      "['Joffrey/Tommen Baratheon', 'Robb Stark']\n",
      "['Joffrey/Tommen Baratheon', 'Robb Stark']\n",
      "['Robb Stark', 'Joffrey/Tommen Baratheon']\n",
      "['Robb Stark', 'Joffrey/Tommen Baratheon']\n",
      "['Robb Stark', 'Joffrey/Tommen Baratheon']\n",
      "['Robb Stark', 'Balon/Euron Greyjoy']\n",
      "['Joffrey/Tommen Baratheon', 'Robb Stark']\n",
      "['Robb Stark', 'Joffrey/Tommen Baratheon']\n",
      "['Stannis Baratheon', 'Renly Baratheon']\n",
      "['Joffrey/Tommen Baratheon', 'Robb Stark']\n",
      "['Robb Stark', 'Joffrey/Tommen Baratheon']\n",
      "['Stannis Baratheon', 'Joffrey/Tommen Baratheon']\n",
      "['Joffrey/Tommen Baratheon', 'Robb Stark']\n",
      "['Stannis Baratheon', 'Mance Rayder']\n",
      "['Stannis Baratheon', 'Balon/Euron Greyjoy']\n",
      "['Stannis Baratheon', 'Joffrey/Tommen Baratheon']\n"
     ]
    }
   ],
   "source": [
    "# step 12\n",
    "# Define Potential edges are defined as (king1_name, king2_name) pairs \n",
    "# taken from the attacker_king and defender_king columns \n",
    "# of battles_df_cleaned, \n",
    "# where king1_name is the attacking king\n",
    "# king2_name is the defending king.\n",
    "potential_edges = battles_df_cleaned[['attacker_king', 'defender_king']].values.tolist()\n",
    "print(\"Potential Edges of net5kings:\")\n",
    "for edge in potential_edges:\n",
    "    print(edge)\n"
   ]
  },
  {
   "cell_type": "code",
   "execution_count": 14,
   "id": "49e4b49b",
   "metadata": {},
   "outputs": [
    {
     "name": "stdout",
     "output_type": "stream",
     "text": [
      "Real (unique) directed Edges of net5kings:\n",
      "('Robb Stark', 'Balon/Euron Greyjoy')\n",
      "('Robb Stark', 'Joffrey/Tommen Baratheon')\n",
      "('Stannis Baratheon', 'Renly Baratheon')\n",
      "('Joffrey/Tommen Baratheon', 'Robb Stark')\n",
      "('Stannis Baratheon', 'Joffrey/Tommen Baratheon')\n",
      "('Stannis Baratheon', 'Balon/Euron Greyjoy')\n",
      "('Stannis Baratheon', 'Mance Rayder')\n"
     ]
    }
   ],
   "source": [
    "# step 13\n",
    "# Create the list (set) of real edges (without repetitions) based on potential edges defined earlier.\n",
    "\n",
    "real_edges = set()\n",
    "for edge in potential_edges:\n",
    "    real_edges.add(tuple(edge))\n",
    "\n",
    "print(\"Real (unique) directed Edges of net5kings:\")\n",
    "for edge in real_edges:\n",
    "    print(edge)"
   ]
  },
  {
   "cell_type": "code",
   "execution_count": 15,
   "id": "1b4f93ad",
   "metadata": {},
   "outputs": [
    {
     "name": "stdout",
     "output_type": "stream",
     "text": [
      "                                                   count\n",
      "attacker_king            defender_king                  \n",
      "Joffrey/Tommen Baratheon Robb Stark                    5\n",
      "Robb Stark               Balon/Euron Greyjoy           1\n",
      "                         Joffrey/Tommen Baratheon      5\n",
      "Stannis Baratheon        Balon/Euron Greyjoy           1\n",
      "                         Joffrey/Tommen Baratheon      2\n",
      "                         Mance Rayder                  1\n",
      "                         Renly Baratheon               1\n"
     ]
    }
   ],
   "source": [
    "# step 14\n",
    "# Calculate edges weights as the total number of battles between king 1 and king 2, where( king 1, king 2)- an edge.\n",
    "battle_count_edges = battles_df_cleaned.groupby(['attacker_king', 'defender_king']).agg(count = ('name', 'count'))\n",
    "print(battle_count_edges)"
   ]
  },
  {
   "cell_type": "code",
   "execution_count": 16,
   "id": "88838c76",
   "metadata": {},
   "outputs": [
    {
     "name": "stdout",
     "output_type": "stream",
     "text": [
      "                                                                                               title\n",
      "attacker_king            defender_king                                                              \n",
      "Joffrey/Tommen Baratheon Robb Stark                Battle of the Golden Tooth, Battle of Riverrun...\n",
      "Robb Stark               Balon/Euron Greyjoy                              Battle of Torrhen's Square\n",
      "                         Joffrey/Tommen Baratheon  Battle of the Green Fork, Battle of the Whispe...\n",
      "Stannis Baratheon        Balon/Euron Greyjoy                              Retaking of Deepwood Motte\n",
      "                         Joffrey/Tommen Baratheon      Battle of the Blackwater, Siege of Winterfell\n",
      "                         Mance Rayder                                         Battle of Castle Black\n",
      "                         Renly Baratheon                                        Siege of Storm's End\n"
     ]
    }
   ],
   "source": [
    "# step 15\n",
    "# Define the titles for edges by using data from battles_df_cleaned about battles' name, attacker_size, and defender_size columns.\n",
    "def join_battle(x):\n",
    "    return ', '.join(x)\n",
    "battle_title_edges = battles_df_cleaned.groupby(['attacker_king', 'defender_king']).agg(title = ('name', join_battle))\n",
    "print(battle_title_edges)"
   ]
  },
  {
   "cell_type": "code",
   "execution_count": 17,
   "id": "2dc71925",
   "metadata": {},
   "outputs": [
    {
     "name": "stdout",
     "output_type": "stream",
     "text": [
      "Attacking king: Joffrey/Tommen Baratheon, Defending king: Robb Stark,  N of battles: 5, Titles: Battle of the Golden Tooth, Battle of Riverrun, Sack of Winterfell, Battle of the Fords, The Red Wedding\n",
      "Attacking king: Robb Stark, Defending king: Balon/Euron Greyjoy,  N of battles: 1, Titles: Battle of Torrhen's Square\n",
      "Attacking king: Robb Stark, Defending king: Joffrey/Tommen Baratheon,  N of battles: 5, Titles: Battle of the Green Fork, Battle of the Whispering Wood, Battle of the Camps, Battle of Oxcross, Sack of Harrenhal\n",
      "Attacking king: Stannis Baratheon, Defending king: Balon/Euron Greyjoy,  N of battles: 1, Titles: Retaking of Deepwood Motte\n",
      "Attacking king: Stannis Baratheon, Defending king: Joffrey/Tommen Baratheon,  N of battles: 2, Titles: Battle of the Blackwater, Siege of Winterfell\n",
      "Attacking king: Stannis Baratheon, Defending king: Mance Rayder,  N of battles: 1, Titles: Battle of Castle Black\n",
      "Attacking king: Stannis Baratheon, Defending king: Renly Baratheon,  N of battles: 1, Titles: Siege of Storm's End\n",
      "edges_weights: [5, 1, 5, 1, 2, 1, 1]\n"
     ]
    }
   ],
   "source": [
    "# step 16\n",
    "# Assign the weight of each edge and output them as follows:\n",
    "full_edges = (battles_df_cleaned.groupby(['attacker_king', 'defender_king']).agg\n",
    "              (  n_battles = ('name', 'count'),\n",
    "                title = ('name', join_battle))\n",
    "            ).reset_index()\n",
    "edges_weights = full_edges['n_battles'].tolist()\n",
    "for index, row in full_edges.iterrows():\n",
    "    print(f\"Attacking king: {row['attacker_king']}, Defending king: {row['defender_king']},  N of battles: {row['n_battles']}, Titles: {row['title']}\")\n",
    "print(f\"edges_weights: {edges_weights}\")\n"
   ]
  },
  {
   "cell_type": "code",
   "execution_count": 18,
   "id": "0ada8fd3",
   "metadata": {},
   "outputs": [
    {
     "name": "stdout",
     "output_type": "stream",
     "text": [
      "The edge from Joffrey/Tommen Baratheon to Robb Stark with weight 5, title: 'Battle of the Golden Tooth, Battle of Riverrun, Sack of Winterfell, Battle of the Fords, The Red Wedding'\n",
      "The edge from Robb Stark to Balon/Euron Greyjoy with weight 1, title: 'Battle of Torrhen's Square'\n",
      "The edge from Robb Stark to Joffrey/Tommen Baratheon with weight 5, title: 'Battle of the Green Fork, Battle of the Whispering Wood, Battle of the Camps, Battle of Oxcross, Sack of Harrenhal'\n",
      "The edge from Stannis Baratheon to Balon/Euron Greyjoy with weight 1, title: 'Retaking of Deepwood Motte'\n",
      "The edge from Stannis Baratheon to Joffrey/Tommen Baratheon with weight 2, title: 'Battle of the Blackwater, Siege of Winterfell'\n",
      "The edge from Stannis Baratheon to Mance Rayder with weight 1, title: 'Battle of Castle Black'\n",
      "The edge from Stannis Baratheon to Renly Baratheon with weight 1, title: 'Siege of Storm's End'\n"
     ]
    }
   ],
   "source": [
    "# step 17\n",
    "# Add edges with their weights to the net5kings (via .add_edge) and output results as follows:\n",
    "for index, row in full_edges.iterrows():\n",
    "    print(f\"The edge from {row['attacker_king']} to {row['defender_king']} with weight {row['n_battles']}, title: '{row['title']}'\")\n",
    "    net5kings.add_edge(row['attacker_king'], row['defender_king'],value=row['n_battles'], title=row['title'])\n"
   ]
  },
  {
   "cell_type": "code",
   "execution_count": 19,
   "id": "a8fe38a4",
   "metadata": {},
   "outputs": [
    {
     "data": {
      "text/plain": [
       "[{'value': 5,\n",
       "  'title': 'Battle of the Golden Tooth, Battle of Riverrun, Sack of Winterfell, Battle of the Fords, The Red Wedding',\n",
       "  'from': 'Joffrey/Tommen Baratheon',\n",
       "  'to': 'Robb Stark',\n",
       "  'arrows': 'to'},\n",
       " {'value': 1,\n",
       "  'title': \"Battle of Torrhen's Square\",\n",
       "  'from': 'Robb Stark',\n",
       "  'to': 'Balon/Euron Greyjoy',\n",
       "  'arrows': 'to'},\n",
       " {'value': 5,\n",
       "  'title': 'Battle of the Green Fork, Battle of the Whispering Wood, Battle of the Camps, Battle of Oxcross, Sack of Harrenhal',\n",
       "  'from': 'Robb Stark',\n",
       "  'to': 'Joffrey/Tommen Baratheon',\n",
       "  'arrows': 'to'},\n",
       " {'value': 1,\n",
       "  'title': 'Retaking of Deepwood Motte',\n",
       "  'from': 'Stannis Baratheon',\n",
       "  'to': 'Balon/Euron Greyjoy',\n",
       "  'arrows': 'to'},\n",
       " {'value': 2,\n",
       "  'title': 'Battle of the Blackwater, Siege of Winterfell',\n",
       "  'from': 'Stannis Baratheon',\n",
       "  'to': 'Joffrey/Tommen Baratheon',\n",
       "  'arrows': 'to'},\n",
       " {'value': 1,\n",
       "  'title': 'Battle of Castle Black',\n",
       "  'from': 'Stannis Baratheon',\n",
       "  'to': 'Mance Rayder',\n",
       "  'arrows': 'to'},\n",
       " {'value': 1,\n",
       "  'title': \"Siege of Storm's End\",\n",
       "  'from': 'Stannis Baratheon',\n",
       "  'to': 'Renly Baratheon',\n",
       "  'arrows': 'to'}]"
      ]
     },
     "execution_count": 19,
     "metadata": {},
     "output_type": "execute_result"
    }
   ],
   "source": [
    "# step 18\n",
    "net5kings.edges"
   ]
  },
  {
   "cell_type": "code",
   "execution_count": 20,
   "id": "ba132325",
   "metadata": {},
   "outputs": [
    {
     "data": {
      "text/plain": [
       "{'Robb Stark': {'Balon/Euron Greyjoy', 'Joffrey/Tommen Baratheon'},\n",
       " 'Joffrey/Tommen Baratheon': {'Robb Stark'},\n",
       " 'Stannis Baratheon': {'Balon/Euron Greyjoy',\n",
       "  'Joffrey/Tommen Baratheon',\n",
       "  'Mance Rayder',\n",
       "  'Renly Baratheon'},\n",
       " 'Mance Rayder': set(),\n",
       " 'Renly Baratheon': set(),\n",
       " 'Balon/Euron Greyjoy': set()}"
      ]
     },
     "execution_count": 20,
     "metadata": {},
     "output_type": "execute_result"
    }
   ],
   "source": [
    "# step 19\n",
    "# Assign the value of node (to scale the node's size) as the N of kings (N+ 1) that this king (a node)\n",
    "# has attacked in battles. Hint: use .get_adj_list () (enemies_map) to retrieve an adjacency list\n",
    "# representation of the directed graph\n",
    "enemies_map = net5kings.get_adj_list()\n",
    "enemies_map"
   ]
  },
  {
   "cell_type": "code",
   "execution_count": 21,
   "id": "e7d69616",
   "metadata": {},
   "outputs": [
    {
     "name": "stdout",
     "output_type": "stream",
     "text": [
      "King: Robb Stark has attacked: {'Balon/Euron Greyjoy', 'Joffrey/Tommen Baratheon'}, N of enemies: 2, node's value: 3\n",
      "King: Joffrey/Tommen Baratheon has attacked: {'Robb Stark'}, N of enemies: 1, node's value: 2\n",
      "King: Stannis Baratheon has attacked: {'Mance Rayder', 'Renly Baratheon', 'Balon/Euron Greyjoy', 'Joffrey/Tommen Baratheon'}, N of enemies: 4, node's value: 5\n",
      "King: Mance Rayder has attacked: set(), N of enemies: 0, node's value: 1\n",
      "King: Renly Baratheon has attacked: set(), N of enemies: 0, node's value: 1\n",
      "King: Balon/Euron Greyjoy has attacked: set(), N of enemies: 0, node's value: 1\n"
     ]
    }
   ],
   "source": [
    "# step 20\n",
    "# By using enemies_map (defined earlie) output the following\n",
    "for king, enemies in enemies_map.items():\n",
    "    N = len(set(enemies)) + 1\n",
    "    print(f\"King: {king} has attacked: {enemies}, N of enemies: {N - 1}, node's value: {N}\")"
   ]
  },
  {
   "cell_type": "code",
   "execution_count": 22,
   "id": "7925e176",
   "metadata": {},
   "outputs": [],
   "source": [
    "# step 20\n",
    "# Use the following color dictionary to assign a color to a node according to its value (specified earlier):\n",
    "nodeColors={\n",
    "    0:\"blue\",\n",
    "    1: \"green\",\n",
    "    2: \"orange\",\n",
    "    3: \"purple\",\n",
    "    4: \"gold\",\n",
    "    5:\"red\"\n",
    "}"
   ]
  },
  {
   "cell_type": "code",
   "execution_count": 23,
   "id": "f3d28ad0",
   "metadata": {},
   "outputs": [
    {
     "data": {
      "text/plain": [
       "[{'color': 'purple',\n",
       "  'id': 'Robb Stark',\n",
       "  'label': 'Robb Stark',\n",
       "  'shape': 'dot',\n",
       "  'font': {'color': 'white'},\n",
       "  'value': 3},\n",
       " {'color': 'orange',\n",
       "  'id': 'Joffrey/Tommen Baratheon',\n",
       "  'label': 'Joffrey/Tommen Baratheon',\n",
       "  'shape': 'dot',\n",
       "  'font': {'color': 'white'},\n",
       "  'value': 2},\n",
       " {'color': 'red',\n",
       "  'id': 'Stannis Baratheon',\n",
       "  'label': 'Stannis Baratheon',\n",
       "  'shape': 'dot',\n",
       "  'font': {'color': 'white'},\n",
       "  'value': 5},\n",
       " {'color': 'green',\n",
       "  'id': 'Mance Rayder',\n",
       "  'label': 'Mance Rayder',\n",
       "  'shape': 'dot',\n",
       "  'font': {'color': 'white'},\n",
       "  'value': 1},\n",
       " {'color': 'green',\n",
       "  'id': 'Renly Baratheon',\n",
       "  'label': 'Renly Baratheon',\n",
       "  'shape': 'dot',\n",
       "  'font': {'color': 'white'},\n",
       "  'value': 1},\n",
       " {'color': 'green',\n",
       "  'id': 'Balon/Euron Greyjoy',\n",
       "  'label': 'Balon/Euron Greyjoy',\n",
       "  'shape': 'dot',\n",
       "  'font': {'color': 'white'},\n",
       "  'value': 1}]"
      ]
     },
     "execution_count": 23,
     "metadata": {},
     "output_type": "execute_result"
    }
   ],
   "source": [
    "# step 21\n",
    "# Assign values and color to nodes. Output results via net5kings.nodes\n",
    "\n",
    "for node in net5kings.nodes:\n",
    "    king_name = node['id']\n",
    "    enemies = enemies_map.get(king_name, [])\n",
    "    N = len(set(enemies)) + 1\n",
    "    node['value'] = N\n",
    "    node['color'] = nodeColors[node['value']]\n",
    "net5kings.nodes"
   ]
  },
  {
   "cell_type": "code",
   "execution_count": 24,
   "id": "f2afb7fd",
   "metadata": {},
   "outputs": [
    {
     "name": "stdout",
     "output_type": "stream",
     "text": [
      "Jehad's Lab1-task1-net5kings.html\n"
     ]
    }
   ],
   "source": [
    "net5kings.show(\"Jehad's Lab1-task1-net5kings.html\", notebook=False)"
   ]
  }
 ],
 "metadata": {
  "kernelspec": {
   "display_name": ".venv",
   "language": "python",
   "name": "python3"
  },
  "language_info": {
   "codemirror_mode": {
    "name": "ipython",
    "version": 3
   },
   "file_extension": ".py",
   "mimetype": "text/x-python",
   "name": "python",
   "nbconvert_exporter": "python",
   "pygments_lexer": "ipython3",
   "version": "3.13.6"
  }
 },
 "nbformat": 4,
 "nbformat_minor": 5
}
